{
 "cells": [
  {
   "cell_type": "code",
   "execution_count": null,
   "id": "9a5fdd2b",
   "metadata": {},
   "outputs": [],
   "source": [
    "import pandas as pd\n",
    "import csv\n",
    "import os\n",
    "import random\n",
    "import numpy as np\n",
    "import matplotlib.pyplot as plt\n",
    "import tensorflow as tf\n",
    "from tensorflow import keras"
   ]
  },
  {
   "cell_type": "code",
   "execution_count": null,
   "id": "113d4a27",
   "metadata": {},
   "outputs": [],
   "source": [
    "def get_data(path): \n",
    " list_row=[]\n",
    " date=[]\n",
    " traffic=[]\n",
    " with open(path,'r') as file:\n",
    "  reader = csv.reader(file)\n",
    "  for row in reader:\n",
    "    if row[0]!='Date':\n",
    "     traffic.append(row[1])\n",
    "     date.append(row[0])     \n",
    "     list_row.append(row)\n",
    " #print(date)\n",
    " #print(traffic)\n",
    " #print(len(traffic))\n",
    " return list_row,date,traffic"
   ]
  },
  {
   "cell_type": "code",
   "execution_count": null,
   "id": "c78bda74",
   "metadata": {},
   "outputs": [],
   "source": [
    "list_row,date,traffic = get_data('/home/abh/Documents/Python/Untitled Folder/submission (1).csv')\n",
    "print(date)\n",
    "print(traffic)"
   ]
  },
  {
   "cell_type": "code",
   "execution_count": null,
   "id": "5955cb46",
   "metadata": {},
   "outputs": [],
   "source": [
    "list_row[1460:]"
   ]
  },
  {
   "cell_type": "code",
   "execution_count": null,
   "id": "8210bbeb",
   "metadata": {},
   "outputs": [],
   "source": [
    "def calendar(date):\n",
    " d1=[]\n",
    " m1=[]\n",
    " y1=[]\n",
    " for i in date:\n",
    "   a = i.split('/')\n",
    "   if a[0] not in d1:\n",
    "     d1.append(a[0])\n",
    "   if a[1] not in m1:\n",
    "     m1.append(a[1])\n",
    "   if a[2] not in y1:\n",
    "     y1.append(a[2])\n",
    " m2={'1':31,'2':28,'3':31,'4':30,'5':31,'6':30,'7':31,'8':31,'9':30,'10':31,'11':30,'12':31}\n",
    " date=[]\n",
    " for i in y1:\n",
    "   for j in m2:\n",
    "     len = m2[j]\n",
    "     if (int(i)%4)==0 and j=='2':\n",
    "       len=29\n",
    "     for k in range(1,len+1):\n",
    "       temp = str(k)+'/'+j+'/'+i\n",
    "       date.append(temp)\n",
    " return date,y1,m1,d1"
   ]
  },
  {
   "cell_type": "code",
   "execution_count": null,
   "id": "d4d1fc01",
   "metadata": {},
   "outputs": [],
   "source": [
    "date,year_all,month_all,date_all = calendar(date)\n",
    "print(date)\n",
    "print(year_all)\n",
    "print(month_all)\n",
    "print(date_all)"
   ]
  },
  {
   "cell_type": "code",
   "execution_count": null,
   "id": "999ef63b",
   "metadata": {},
   "outputs": [],
   "source": [
    "def holiday_calendar():\n",
    " holiday=[]\n",
    " for i in year_all:\n",
    "  a = \"/15/8/\" +i\n",
    "  holiday.append(a)\n",
    "  b = '26/1/'+i\n",
    "  holiday.append(b) \n",
    "  b = '14/11/'+i\n",
    "  holiday.append(b)\n",
    "  b = '26/10/'+i\n",
    "  holiday.append(b)\n",
    "  b = '1/1/'+i\n",
    "  holiday.append(b)\n",
    "  b = '3/3/'+i\n",
    "  holiday.append(b)\n",
    "  b = '31/12/'+i\n",
    "  holiday.append(b)\n",
    " return holiday"
   ]
  },
  {
   "cell_type": "code",
   "execution_count": null,
   "id": "69e4aecb",
   "metadata": {},
   "outputs": [],
   "source": [
    "holiday = holiday_calendar()\n",
    "print(holiday)"
   ]
  },
  {
   "cell_type": "code",
   "execution_count": null,
   "id": "9456793c",
   "metadata": {},
   "outputs": [],
   "source": [
    "def date_to_day(list_row):\n",
    " week=['mon','tues','wed','thur','fri','sat','sun']\n",
    " count=3\n",
    " day={}\n",
    " for i in date:\n",
    "   if count==7:\n",
    "     count=0\n",
    "   day[i]=week[count]\n",
    "   count=count+1\n",
    " for row in list_row:\n",
    "   if row[0] in holiday:\n",
    "     row.append(1)\n",
    "   else:\n",
    "     row.append(0)\n",
    "   row.append(day[row[0]])\n",
    " return day,list_row,week"
   ]
  },
  {
   "cell_type": "code",
   "execution_count": null,
   "id": "12d24d0e",
   "metadata": {},
   "outputs": [],
   "source": [
    "day,list_row,week = date_to_day(list_row)"
   ]
  },
  {
   "cell_type": "code",
   "execution_count": null,
   "id": "e0663666",
   "metadata": {},
   "outputs": [],
   "source": [
    "print(day)\n",
    "print(list_row[0:10])"
   ]
  },
  {
   "cell_type": "code",
   "execution_count": null,
   "id": "45b26168",
   "metadata": {},
   "outputs": [],
   "source": [
    "def to_graph():\n",
    " listt=[]\n",
    " listd=[]\n",
    " for i in list_row:\n",
    "    listt.append(int(i[1]))\n",
    "    listd.append(i[0])\n",
    "    ticks =  [0,365,365*2,365*3,365*4]\n",
    "    labels = ['1/1/2015','1/1/2016','1/1/2017','1/1/2018','1/1/2019']\n",
    " return listt,listd,ticks,labels"
   ]
  },
  {
   "cell_type": "code",
   "execution_count": null,
   "id": "e8955661",
   "metadata": {},
   "outputs": [],
   "source": [
    "listt,listd,ticks,labels = to_graph()"
   ]
  },
  {
   "cell_type": "code",
   "execution_count": null,
   "id": "764ab636",
   "metadata": {},
   "outputs": [],
   "source": [
    "plt.plot(listd, listt,color='purple')\n",
    "plt.xticks(ticks,labels,rotation=17)\n",
    "plt.show()"
   ]
  },
  {
   "cell_type": "code",
   "execution_count": null,
   "id": "1ae14260",
   "metadata": {},
   "outputs": [],
   "source": [
    "def max(list1):\n",
    "  maximus=0\n",
    "  for i in list1:\n",
    "    if int(i)>maximus:\n",
    "      maximus=int(i)\n",
    "  return maximus"
   ]
  },
  {
   "cell_type": "code",
   "execution_count": null,
   "id": "9f9d9dd0",
   "metadata": {},
   "outputs": [],
   "source": [
    "max1= max(traffic)\n",
    "print(max1)"
   ]
  },
  {
   "cell_type": "code",
   "execution_count": null,
   "id": "d76ed67e",
   "metadata": {},
   "outputs": [],
   "source": [
    "def pre_process(max,list_row):\n",
    " for i in range(0,len(list_row)):\n",
    "   list_row[i][1] = int(list_row[i][1])/max\n",
    " return list_row"
   ]
  },
  {
   "cell_type": "code",
   "execution_count": null,
   "id": "dda85207",
   "metadata": {},
   "outputs": [],
   "source": [
    "list_row = pre_process(max1,list_row)\n",
    "print(list_row[0:10])"
   ]
  },
  {
   "cell_type": "code",
   "execution_count": null,
   "id": "6f2f15cc",
   "metadata": {},
   "outputs": [],
   "source": [
    "def number_to_one_hot(list1):\n",
    "  listi=[]\n",
    "  for i in range(0,len(list1)):\n",
    "    listi.append(i)\n",
    "  one_hot = keras.utils.to_categorical(listi)\n",
    "  dictf={}\n",
    "  count=0\n",
    "  for i in listi:\n",
    "    code = one_hot[i]\n",
    "    ind = list1[count]\n",
    "    dictf[ind] = code\n",
    "    count = count+1\n",
    "  return dictf"
   ]
  },
  {
   "cell_type": "code",
   "execution_count": null,
   "id": "d31cded5",
   "metadata": {},
   "outputs": [],
   "source": [
    "#Defining Seasonality\n",
    "season=['winter','summer','autumn','spring','rainy']\n",
    "def cur_season(season,date):\n",
    "  sess= number_to_one_hot(season)\n",
    "  d = date.split('/')\n",
    "  w = ['11','12','1']\n",
    "  a=0\n",
    "  s = ['5','6','7','8']\n",
    "  sp = ['2','3','4']\n",
    "  aut = ['10']\n",
    "  ra = ['9']\n",
    "  if d[1] in w:\n",
    "    a= sess['winter']\n",
    "  if d[1] in s:\n",
    "    a= sess['summer']\n",
    "  if d[1] in sp:\n",
    "    a= sess['spring']\n",
    "  if d[1] in aut:\n",
    "    a= sess['autumn']\n",
    "  if d[1] in ra:\n",
    "    a= sess['rainy']\n",
    "  return a"
   ]
  },
  {
   "cell_type": "code",
   "execution_count": null,
   "id": "3668b2c4",
   "metadata": {},
   "outputs": [],
   "source": [
    "#Encoding Dates\n",
    "def date_enc(date):\n",
    "  days=[]\n",
    "  months=[]\n",
    "  years=[]\n",
    "  final={}\n",
    "  count=0\n",
    "  for i in date:\n",
    "    datess = i.split(\"/\")\n",
    "    if int(datess[0]) not in days:\n",
    "      days.append(int(datess[0]))\n",
    "    if int(datess[1]) not in months:\n",
    "      months.append(int(datess[1]))\n",
    "    if int(datess[2]) not in years:\n",
    "      years.append(int(datess[2]))\n",
    "  day_enc = number_to_one_hot(days)\n",
    "  month_enc = number_to_one_hot(months)\n",
    "  count=0\n",
    "  #print(days,months,years)\n",
    "  years_enc = number_to_one_hot(years)\n",
    "  #print(\"year_enc=\",years_enc)\n",
    "  count=0\n",
    "  #print(years)\n",
    "  #print(len(dates_enc),len(months_enc),years_enc)\n",
    "  return day_enc,month_enc,years_enc"
   ]
  },
  {
   "cell_type": "code",
   "execution_count": null,
   "id": "8c355c15",
   "metadata": {},
   "outputs": [],
   "source": [
    "days,months,years = date_enc(date)\n",
    "print(days)\n",
    "print(months)\n",
    "print(years)"
   ]
  },
  {
   "cell_type": "code",
   "execution_count": null,
   "id": "0e97aafa",
   "metadata": {},
   "outputs": [],
   "source": [
    "def date_to_enc(date,days,months,years):\n",
    "  dates = date.split(\"/\")\n",
    "  day = days[int(dates[0])]\n",
    "  month = months[int(dates[1])]\n",
    "  year = years[int(dates[2])]\n",
    "  return day,month,year"
   ]
  },
  {
   "cell_type": "code",
   "execution_count": null,
   "id": "ca6cd62e",
   "metadata": {},
   "outputs": [],
   "source": [
    "#Converting Data into inputs\n",
    "\n",
    "def conversion(week,days,months,years,list_row):\n",
    "  inp_day = []\n",
    "  inp_mon = []\n",
    "  inp_year = []\n",
    "  inp_week=[]\n",
    "  inp_hol=[]\n",
    "  out = []\n",
    "  week1 = number_to_one_hot(week)\n",
    "  count=0\n",
    "  for row in list_row:\n",
    "       #print(row[0])\n",
    "       d = row[0]\n",
    "       d_split=d.split('/')\n",
    "       if d_split[2]==str(year_all[0]) or d_split[2]==str(year_all[-1]):\n",
    "         continue\n",
    "       #print(d)\n",
    "       d1,m1,y1 = date_to_enc(d,days,months,years)\n",
    "       inp_day.append(d1)\n",
    "       inp_mon.append(m1)\n",
    "       inp_year.append(y1)\n",
    "       week2 = week1[row[3]]\n",
    "       inp_week.append(week2)\n",
    "       t1 = row[1]\n",
    "       inp_hol.append([row[2]])\n",
    "       #for i in range(0,len(o)):\n",
    "       #  b[i+len(t)] = t[i]\n",
    "       out.append(t1)\n",
    "       count = count+1\n",
    "  return inp_day,inp_mon,inp_year,inp_week,inp_hol,out"
   ]
  },
  {
   "cell_type": "code",
   "execution_count": null,
   "id": "88c72d6b",
   "metadata": {},
   "outputs": [],
   "source": [
    "inp_day,inp_mon,inp_year,inp_week,inp_hol,out = conversion(week,days,months,years,list_row)\n",
    "inp_day = np.array(inp_day)\n",
    "inp_mon = np.array(inp_mon)\n",
    "inp_year = np.array(inp_year)\n",
    "inp_week = np.array(inp_week)\n",
    "inp_hol = np.array(inp_hol)\n",
    "#inp = inp1.reshape((inp1.shape[0],1,inp1.shape[1]))\n",
    "#inp = inp.reshape((inp.shape[0],1,inp.shape[1]))\n",
    "print(inp_day.shape)\n",
    "print(inp_day.dtype)\n",
    "print(inp_mon.shape)\n",
    "print(inp_mon.dtype)\n",
    "print(inp_year.shape)\n",
    "print(inp_year.dtype)\n",
    "print(inp_week.shape)\n",
    "print(inp_week.dtype)\n",
    "print(inp_hol.shape)\n",
    "print(inp_hol.dtype)\n",
    "out = np.array(out)\n",
    "print(out.shape)\n",
    "print(out.dtype)"
   ]
  },
  {
   "cell_type": "code",
   "execution_count": null,
   "id": "c16b7eec",
   "metadata": {},
   "outputs": [],
   "source": [
    "def other_inputs(season):\n",
    " inp7=[]\n",
    " inp_prev=[]\n",
    " inp_sess=[]\n",
    " count=0\n",
    " for row in list_row:\n",
    "  ind = count\n",
    "  count=count+1\n",
    "  d = row[0]\n",
    "  d_split=d.split('/')\n",
    "  if d_split[2]==str(year_all[0]) or d_split[2]==str(year_all[-1]):\n",
    "    continue\n",
    "  sess = cur_season(season,d)\n",
    "  inp_sess.append(sess)\n",
    "  #print(d_year)\n",
    "  t7=[]\n",
    "  t_prev=[]\n",
    "  t_prev.append(list_row[ind-365][1])\n",
    "  for j in range(0,7):\n",
    "       t7.append(list_row[ind-j-1][1])\n",
    "  inp7.append(t7)\n",
    "  inp_prev.append(t_prev)\n",
    " return inp7,inp_prev,inp_sess"
   ]
  },
  {
   "cell_type": "code",
   "execution_count": null,
   "id": "5330e84c",
   "metadata": {},
   "outputs": [],
   "source": [
    "inp7,inp_prev,inp_sess = other_inputs(season)\n",
    "inp7 = np.array(inp7)\n",
    "inp7= inp7.reshape(inp7.shape[0],inp7.shape[1],1)\n",
    "print(inp7.shape)\n",
    "inp_prev = np.array(inp_prev)\n",
    "print(inp_prev.shape)\n",
    "inp_sess = np.array(inp_sess)\n",
    "print(inp_sess.shape)"
   ]
  },
  {
   "cell_type": "code",
   "execution_count": null,
   "id": "8e61c87e",
   "metadata": {},
   "outputs": [],
   "source": [
    "from tensorflow.keras.models import Model\n",
    "from tensorflow.keras.layers import Input, Dense,LSTM,Flatten\n",
    "from tensorflow.keras.layers import concatenate\n",
    "\n",
    "input_day = Input(shape=(inp_day.shape[1],),name = 'input_day')\n",
    "input_mon = Input(shape=(inp_mon.shape[1],),name = 'input_mon')\n",
    "input_year = Input(shape=(inp_year.shape[1],),name = 'input_year')\n",
    "input_week = Input(shape=(inp_week.shape[1],),name = 'input_week')\n",
    "input_hol = Input(shape=(inp_hol.shape[1],),name = 'input_hol')\n",
    "input_day7 = Input(shape=(inp7.shape[1],inp7.shape[2]),name = 'input_day7')\n",
    "input_day_prev = Input(shape=(inp_prev.shape[1],),name = 'input_day_prev')\n",
    "input_day_sess = Input(shape=(inp_sess.shape[1],),name = 'input_day_sess')\n",
    "\n",
    "x1 = Dense(5, activation='relu')(input_day)\n",
    "x2 = Dense(5, activation='relu')(input_mon)\n",
    "x3 = Dense(5, activation='relu')(input_year)\n",
    "x5 = Dense(5, activation='relu')(input_week)\n",
    "x6 = Dense(5, activation='relu')(input_hol)\n",
    "x_10 = Dense(5, activation='relu')(input_day7)\n",
    "x__10 = LSTM(5,return_sequences=True)(x_10)\n",
    "x10 = Flatten()(x__10)\n",
    "x11 = Dense(5, activation='relu')(input_day_prev)\n",
    "x12 = Dense(5, activation='relu')(input_day_sess)\n",
    "c = concatenate([x1, x2,x3,x5,x6,x10,x11,x12])\n",
    "layer1 = Dense(64,activation='relu')(c)\n",
    "outputs = Dense(1, activation='sigmoid')(layer1)\n",
    "\n",
    "model = Model(inputs=[input_day,input_mon,input_year,input_week,input_hol,input_day7,input_day_prev,input_day_sess], outputs=outputs)\n",
    "model.summary()"
   ]
  },
  {
   "cell_type": "code",
   "execution_count": null,
   "id": "a9ee0bad",
   "metadata": {},
   "outputs": [],
   "source": [
    "from tensorflow.keras.optimizers import RMSprop\n",
    "\n",
    "model.compile(loss=['mean_squared_error'],\n",
    "              optimizer = 'adam',\n",
    "              metrics = ['acc']\n",
    "              )"
   ]
  },
  {
   "cell_type": "code",
   "execution_count": null,
   "id": "825fc4b3",
   "metadata": {},
   "outputs": [],
   "source": [
    "history = model.fit(\n",
    "           x = [inp_day,inp_mon,inp_year,inp_week,inp_hol,inp7,inp_prev,inp_sess],\n",
    "           y = out,\n",
    "           batch_size=16,\n",
    "           steps_per_epoch=50,\n",
    "           epochs = 15,\n",
    "           verbose=1,\n",
    "           shuffle =False\n",
    "           )"
   ]
  },
  {
   "cell_type": "code",
   "execution_count": null,
   "id": "b933449c",
   "metadata": {},
   "outputs": [],
   "source": [
    "def testing(date,traffic,order,maxj):\n",
    "       out=[]\n",
    "       d1,d2,d3 = date_to_enc(date,days,months,years)\n",
    "       #print(da)\n",
    "       #print(d[0])\n",
    "       print('date=',date)\n",
    "       #print(inp[0][count])\n",
    "       #print(count)\n",
    "       #t1 = int(traffic/maxj)\n",
    "       d1 = np.array([d1])\n",
    "       #print(d1.shape)\n",
    "       d2 = np.array([d2])\n",
    "       d3 = np.array([d3])\n",
    "       #print(d2.shape)\n",
    "       #print(d3.shape)\n",
    "       #print(us.shape)\n",
    "       week1 = number_to_one_hot(week)\n",
    "       week2 = week1[day[date]]\n",
    "       #print(day[date])\n",
    "       week2=np.array([week2])\n",
    "       #print(week2)\n",
    "       #print(\"date=\",date)\n",
    "       if date in holiday:\n",
    "         h=1\n",
    "         print('holiday')\n",
    "       else:\n",
    "         h=0\n",
    "         print(\"no holiday\")\n",
    "       h = np.array([h])\n",
    "       #print(h)\n",
    "       count=-1\n",
    "       ind=0\n",
    "       #print(date)\n",
    "       #print(us)\n",
    "       for i in list_row:\n",
    "         count =count+1\n",
    "         #print(count)\n",
    "         #print(i[0],i[1])\n",
    "         #print(date,us)\n",
    "         if i[0]==date:\n",
    "           #print(\"found\")\n",
    "           ind = count\n",
    "       print(\"ind=\",ind)\n",
    "       sess = cur_season(season,date)\n",
    "       #print(sess)\n",
    "       #print(d_prev)\n",
    "       t7=[]\n",
    "       t_prev=[]\n",
    "       t_prev.append(list_row[ind-365][1])\n",
    "       print(list_row[ind-365])\n",
    "       #print(list_row[ind-366*len(url)])\n",
    "       #print(list_row[ind-365*len(url)])\n",
    "       print(\"t-prev\",t_prev)\n",
    "       for j in range(0,7):\n",
    "            t7.append(list_row[ind-j][1])\n",
    "       t7 = np.array([t7])\n",
    "       t7 = t7.reshape(1,7,1)\n",
    "       print('t7=',t7)\n",
    "       t_prev = np.array([t_prev])\n",
    "       #print(\"prev=\",t_prev)\n",
    "       sess = np.array([sess])\n",
    "       y_out = model.predict([d1,d2,d3,week2,h,t7,t_prev,sess])\n",
    "       #print(\"output=\",y_out)\n",
    "       #print(y_out.shape)\n",
    "       print(list_row[ind])\n",
    "       print(\"output after processing=\",y_out[0][0]*maxj)\n",
    "       #sales on the date\n",
    "       print(\"sales on date=\",list_row[ind][1]*maxj)\n",
    "       e1 = y_out[0][0]*maxj- list_row[ind][1]*maxj\n",
    "       print('change from expected value= ',e1)\n",
    "       return y_out[0][0]*maxj"
   ]
  },
  {
   "cell_type": "code",
   "execution_count": null,
   "id": "da040239",
   "metadata": {},
   "outputs": [],
   "source": [
    "a= testing('31/12/2019',116,50,max1)"
   ]
  },
  {
   "cell_type": "code",
   "execution_count": null,
   "id": "44a6000d",
   "metadata": {},
   "outputs": [],
   "source": [
    "print(list_row)"
   ]
  },
  {
   "cell_type": "code",
   "execution_count": null,
   "id": "bd90e4e5",
   "metadata": {},
   "outputs": [],
   "source": [
    "print(date)"
   ]
  },
  {
   "cell_type": "code",
   "execution_count": null,
   "id": "3a94f333",
   "metadata": {},
   "outputs": [],
   "source": [
    "def testmore(date_all,maxj):\n",
    "  y=[]\n",
    "  d=[]\n",
    "  for i in range(1461,1826):\n",
    "    print(date_all[i])\n",
    "    y1 = testing(date_all[i],100,50,maxj)\n",
    "    y.append(y1)\n",
    "    d.append(date_all[i])\n",
    "  return y,d"
   ]
  },
  {
   "cell_type": "code",
   "execution_count": null,
   "id": "8eebceb0",
   "metadata": {},
   "outputs": [],
   "source": [
    "y,d = testmore(date,max1)"
   ]
  },
  {
   "cell_type": "code",
   "execution_count": null,
   "id": "9370d184",
   "metadata": {},
   "outputs": [],
   "source": [
    "plt.plot(d,y,color='red')\n",
    "plt.title('predicted')\n",
    "plt.xlabel(\"Date\")\n",
    "plt.ylabel(\"Sales\")\n",
    "plt.show()\n",
    "plt.plot(listd[1460:],listt[1460:],color='purple')\n",
    "plt.xlabel(\"Date\")\n",
    "plt.ylabel(\"Sales\")\n",
    "plt.title('actual values')\n",
    "plt.show()"
   ]
  },
  {
   "cell_type": "code",
   "execution_count": null,
   "id": "f9a7d7f1",
   "metadata": {},
   "outputs": [],
   "source": [
    "plt.plot(d,y,color='red',label='predicted')\n",
    "plt.plot(listd[1460:],listt[1460:],color='purple',label=\"actual\")\n",
    "plt.xlabel(\"Date\")\n",
    "plt.ylabel(\"Sales\")\n",
    "leg = plt.legend()\n",
    "plt.show()"
   ]
  },
  {
   "cell_type": "code",
   "execution_count": null,
   "id": "b229a71c",
   "metadata": {},
   "outputs": [],
   "source": []
  }
 ],
 "metadata": {
  "kernelspec": {
   "display_name": "Python 3",
   "language": "python",
   "name": "python3"
  },
  "language_info": {
   "codemirror_mode": {
    "name": "ipython",
    "version": 3
   },
   "file_extension": ".py",
   "mimetype": "text/x-python",
   "name": "python",
   "nbconvert_exporter": "python",
   "pygments_lexer": "ipython3",
   "version": "3.9.1"
  }
 },
 "nbformat": 4,
 "nbformat_minor": 5
}
